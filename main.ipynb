{
 "cells": [
  {
   "cell_type": "code",
   "execution_count": 8,
   "metadata": {},
   "outputs": [],
   "source": [
    "import csv\n",
    "import requests"
   ]
  },
  {
   "cell_type": "markdown",
   "metadata": {},
   "source": [
    "# 1) Digitalize uma lista de mais de 150 IDs de itens no serviço público:\n",
    "https://api.mercadolibre.com/sites/MLA/search?q=chromecast&limit=50#json \n",
    "\n",
    "Neste caso particular e apenas a título de exemplo, são resultados da pesquisa “ chromecast” , mas deve escolher outros termos para a experiência que lhe permitam enriquecer a análise num dashboard hipotético (por exemplo Google Home, Apple TV, Amazon Fire TV, ou para poder comparar dispositivos portáteis, ou escolha 3 outros que lhe interessam para comparar)."
   ]
  },
  {
   "cell_type": "code",
   "execution_count": 9,
   "metadata": {},
   "outputs": [],
   "source": [
    "\n",
    "def buscar_ids(termos_de_pesquisa):\n",
    "    # Termos de pesquisa desejados, fones de ouvido sem fio\n",
    "\n",
    "    # Lista para armazenar os IDs dos itens\n",
    "    ids_itens = []\n",
    "\n",
    "    # Loop sobre os termos de pesquisa\n",
    "    for termo in termos_de_pesquisa:\n",
    "        # URL da API do Mercado Livre para buscar itens com o termo de pesquisa\n",
    "        url = f'https://api.mercadolibre.com/sites/MLA/search?q={termo}&limit=50'\n",
    "        \n",
    "        # Fazendo a solicitação HTTP\n",
    "        response = requests.get(url)\n",
    "        \n",
    "        # Verificando se a solicitação foi bem-sucedida (código de status 200)\n",
    "        if response.status_code == 200:\n",
    "            # Carregando o conteúdo JSON da resposta\n",
    "            data = response.json()\n",
    "            dados_json = data['results']\n",
    "            # Extrair os IDs dos itens dos resultados da pesquisa\n",
    "            ids = [item['id'] for item in dados_json]\n",
    "            # Adicionar os IDs à lista de IDs de itens\n",
    "            ids_itens.extend(ids)\n",
    "        else:\n",
    "            print(f'Falha na solicitação para o termo de pesquisa \"{termo}\":', response.status_code)\n",
    "\n",
    "    # Imprimir a lista de IDs de itens\n",
    "    print(\"IDs dos itens:\\n\", ids_itens)\n",
    "    return ids_itens"
   ]
  },
  {
   "cell_type": "markdown",
   "metadata": {},
   "source": [
    "# 2) Para cada resultado, realize o GET by Item_Id correspondente ao recurso público:\n",
    "https://api.mercadolibre.com/items/{Item_Id}"
   ]
  },
  {
   "cell_type": "code",
   "execution_count": 10,
   "metadata": {},
   "outputs": [],
   "source": [
    "def buscar_item_por_id(ids_itens):\n",
    "    dados_json = []\n",
    "    for id in ids_itens:\n",
    "        # URL da API do Mercado Livre\n",
    "        url = f'https://api.mercadolibre.com/items/{id}'\n",
    "\n",
    "        # Fazendo a solicitação HTTP\n",
    "        response = requests.get(url)\n",
    "\n",
    "        # Verificando se a solicitação foi bem-sucedida (código de status 200)\n",
    "        if response.status_code == 200:\n",
    "            # Carregando o conteúdo JSON da resposta\n",
    "            data = response.json()\n",
    "            dados_json.append(data)\n",
    "    return dados_json"
   ]
  },
  {
   "cell_type": "markdown",
   "metadata": {},
   "source": [
    "# 3) Escreva os resultados:\n",
    "Escreva os resultados em um arquivo simples delimitado por vírgulas, desnormalizando o JSON obtido na etapa anterior, em quantos campos forem necessários para salvar as variáveis ​​que você tem interesse em modelar.  "
   ]
  },
  {
   "cell_type": "code",
   "execution_count": 11,
   "metadata": {},
   "outputs": [],
   "source": [
    "def criar_csv(dados_json, colunas_relevantes): \n",
    "    # Nome do arquivo CSV de saída\n",
    "    nome_arquivo_csv = \"dados_itens_meli.csv\"\n",
    "\n",
    "    # Abrir o arquivo CSV em modo de escrita\n",
    "    with open(nome_arquivo_csv, 'w', newline='') as arquivo_csv:\n",
    "        # Criar um escritor CSV\n",
    "        escritor_csv = csv.DictWriter(arquivo_csv, fieldnames=dados_json[0].keys())\n",
    "        \n",
    "        # Escrever o cabeçalho do CSV com base nas chaves do primeiro dicionário do JSON\n",
    "        escritor_csv.writeheader()\n",
    "        \n",
    "        for item in dados_json:\n",
    "            # Filtrar o item para incluir apenas os campos desejados\n",
    "            item_filtrado = {chave: valor for chave, valor in item.items() if chave in colunas_relevantes}\n",
    "            escritor_csv.writerow(item_filtrado)"
   ]
  },
  {
   "cell_type": "markdown",
   "metadata": {},
   "source": [
    "# Chamar funções"
   ]
  },
  {
   "cell_type": "code",
   "execution_count": 12,
   "metadata": {},
   "outputs": [
    {
     "name": "stdout",
     "output_type": "stream",
     "text": [
      "IDs dos itens:\n",
      " ['MLA1371018857', 'MLA1494388876', 'MLA899081746', 'MLA1157322893', 'MLA1510667150', 'MLA1640119504', 'MLA1216894783', 'MLA1430723549', 'MLA1147622861', 'MLA1394581243', 'MLA1713035620', 'MLA1148336898', 'MLA1169331799', 'MLA1148336800', 'MLA1743834228', 'MLA1119851636', 'MLA1371057262', 'MLA1628292922', 'MLA1797235128', 'MLA1649097686', 'MLA1157335750', 'MLA1330709273', 'MLA1395111285', 'MLA859899694', 'MLA1397339055', 'MLA1362297622', 'MLA1426630605', 'MLA1403858177', 'MLA1588490088', 'MLA1588680992', 'MLA1664684292', 'MLA1481638406', 'MLA1426782989', 'MLA1656205890', 'MLA1412480400', 'MLA1628241386', 'MLA1701439230', 'MLA1384504026', 'MLA1422245676', 'MLA1640800530', 'MLA1635429684', 'MLA1393292701', 'MLA1396819575', 'MLA1420299557', 'MLA913072520', 'MLA1431360147', 'MLA1470999940', 'MLA796641306', 'MLA1640736108', 'MLA1359485611', 'MLA1401878415', 'MLA1394770629', 'MLA1430689419', 'MLA1719231470', 'MLA1199979833', 'MLA1673999472', 'MLA1606129372', 'MLA1796564186', 'MLA1751895114', 'MLA1185050146', 'MLA1171700052', 'MLA1792626812', 'MLA1723210320', 'MLA1395041987', 'MLA1293927436', 'MLA1412853441', 'MLA1395093293', 'MLA1165547284', 'MLA1751297496', 'MLA1373693126', 'MLA1763285932', 'MLA1376977606', 'MLA1649141824', 'MLA1785165522', 'MLA1421794087', 'MLA1411955088', 'MLA1529141768', 'MLA1428944033', 'MLA1719326664', 'MLA1138220986', 'MLA1368828623', 'MLA1429800257', 'MLA1362787019', 'MLA1798482356', 'MLA1380387637', 'MLA1109649328', 'MLA1408681149', 'MLA1365200019', 'MLA1423062335', 'MLA886132136', 'MLA1199133266', 'MLA1107550760', 'MLA1368878029', 'MLA1430700293', 'MLA1121629637', 'MLA1423024079', 'MLA1430607883', 'MLA923585741', 'MLA1371904969', 'MLA1156518379', 'MLA1669110358', 'MLA1425638569', 'MLA1403613753', 'MLA1782471154', 'MLA1425728895', 'MLA1398225893', 'MLA1417194225', 'MLA1742240806', 'MLA1392633449', 'MLA1789639878', 'MLA1546339772', 'MLA1778205790', 'MLA1781995282', 'MLA1637559464', 'MLA1637611066', 'MLA1394997220', 'MLA1392529993', 'MLA1412294364', 'MLA1369129281', 'MLA1402999253', 'MLA1412909708', 'MLA1423436909', 'MLA1422277663']\n"
     ]
    }
   ],
   "source": [
    "ids_itens = buscar_ids([\"AirPods\", \"Galaxy Buds\", \"JBL Free\"])\n",
    "dados_json = buscar_item_por_id(ids_itens)\n",
    "colunas_relevantes = ['id', 'site_id', 'title', 'seller_id', 'category_id', 'price', 'base_price', 'currency_id', 'initial_quantity', 'buying_mode', 'listing_type_id', 'condition', 'shipping', 'seller_address', 'location', 'date_created', 'last_updated']\n",
    "criar_csv(dados_json, colunas_relevantes)"
   ]
  }
 ],
 "metadata": {
  "kernelspec": {
   "display_name": "Python 3",
   "language": "python",
   "name": "python3"
  },
  "language_info": {
   "codemirror_mode": {
    "name": "ipython",
    "version": 3
   },
   "file_extension": ".py",
   "mimetype": "text/x-python",
   "name": "python",
   "nbconvert_exporter": "python",
   "pygments_lexer": "ipython3",
   "version": "3.10.11"
  },
  "orig_nbformat": 4
 },
 "nbformat": 4,
 "nbformat_minor": 2
}
